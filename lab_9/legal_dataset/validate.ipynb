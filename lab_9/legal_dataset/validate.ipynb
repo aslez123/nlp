{
  "cells": [
    {
      "cell_type": "code",
      "execution_count": 7,
      "id": "43072e2f-b822-4bb4-a916-36bd9c843f8e",
      "metadata": {
        "id": "43072e2f-b822-4bb4-a916-36bd9c843f8e"
      },
      "outputs": [],
      "source": [
        "import json\n",
        "\n",
        "with open(\"passages.jl\", \"r\") as file:\n",
        "    passages_data = [json.loads(line) for line in file]\n",
        "\n",
        "with open(\"questions.jl\", \"r\") as file:\n",
        "    questions_data = [json.loads(line) for line in file]\n",
        "\n",
        "with open(\"answers.jl\", \"r\") as file:\n",
        "    answers_data = [json.loads(line) for line in file]\n",
        "\n",
        "with open(\"relevant.jl\", \"r\") as file:\n",
        "    relevants_data = [json.loads(line) for line in file]\n",
        "\n",
        "merged_data = []\n",
        "id_ = 0\n",
        "for relevant in relevants_data:\n",
        "    passage_id = relevant[\"passage-id\"]\n",
        "    question_id = relevant[\"question-id\"]\n",
        "\n",
        "    passage = next(filter(lambda item: item[\"_id\"] == passage_id, passages_data), None)\n",
        "    question = next(filter(lambda item: item[\"_id\"] == question_id, questions_data), None)\n",
        "    answer = next(filter(lambda item: item[\"question-id\"] == question_id, answers_data), None)\n",
        "\n",
        "\n",
        "    if passage is not None and question is not None and answer is not None and answer[\"answer\"] != \"\":\n",
        "        merged_item = {\n",
        "            \"id\": str(id_),\n",
        "            \"question\": question[\"text\"],\n",
        "            \"answers\": {\n",
        "                \"text\": answer[\"answer\"],\n",
        "                'answer_start': [],\n",
        "            },\n",
        "            \"context\": passage[\"text\"],\n",
        "            \"title\": passage[\"title\"],\n",
        "        }\n",
        "        id_+=1\n",
        "\n",
        "        merged_data.append(merged_item)\n",
        "converted_json = {'data': merged_data}\n",
        "\n",
        "\n",
        "with open(\"test_dataset.json\", \"w\") as json_file:\n",
        "    json.dump(converted_json, json_file, ensure_ascii=False, indent=2)"
      ]
    },
    {
      "cell_type": "code",
      "execution_count": null,
      "id": "nLm-1t7u2VjY",
      "metadata": {
        "id": "nLm-1t7u2VjY"
      },
      "outputs": [],
      "source": []
    }
  ],
  "metadata": {
    "colab": {
      "provenance": []
    },
    "kernelspec": {
      "display_name": "Python 3",
      "name": "python3"
    },
    "language_info": {
      "codemirror_mode": {
        "name": "ipython",
        "version": 3
      },
      "file_extension": ".py",
      "mimetype": "text/x-python",
      "name": "python",
      "nbconvert_exporter": "python",
      "pygments_lexer": "ipython3",
      "version": "3.6.12"
    }
  },
  "nbformat": 4,
  "nbformat_minor": 5
}